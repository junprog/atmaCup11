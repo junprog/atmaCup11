{
 "metadata": {
  "language_info": {
   "codemirror_mode": {
    "name": "ipython",
    "version": 3
   },
   "file_extension": ".py",
   "mimetype": "text/x-python",
   "name": "python",
   "nbconvert_exporter": "python",
   "pygments_lexer": "ipython3",
   "version": "3.8.10"
  },
  "orig_nbformat": 4,
  "kernelspec": {
   "name": "python3",
   "display_name": "Python 3.8.10 64-bit ('kaggle': conda)"
  },
  "interpreter": {
   "hash": "66e7e79746a5652c9884bcf35bf0bb44599af9f75fa0ac5ae206246ca5ae4986"
  }
 },
 "nbformat": 4,
 "nbformat_minor": 2,
 "cells": [
  {
   "cell_type": "code",
   "execution_count": null,
   "metadata": {},
   "outputs": [],
   "source": [
    "import os\n",
    "import numpy as np\n",
    "import pandas as pd\n",
    "from PIL import Image\n",
    "import matplotlib.pyplot as plt\n",
    "%matplotlib inline\n",
    "\n",
    "import torch\n",
    "import torch.nn as nn\n",
    "import torch.nn.functional as F\n",
    "import torch.utils.data as data\n",
    "\n",
    "import torchvision.transforms as transforms\n",
    "import torchvision.models as models\n",
    "\n",
    "import pytorch_lightning as pl\n",
    "from pytorch_lightning.loggers import CSVLogger\n",
    "pl.seed_everything(765)"
   ]
  },
  {
   "cell_type": "code",
   "execution_count": null,
   "metadata": {},
   "outputs": [],
   "source": [
    "DATA_DIR = 'C:/Users/Junya/Desktop/dataset_atmaCup11'\n",
    "\n",
    "train_csv_path = os.path.join(DATA_DIR, 'train.csv')\n",
    "test_csv_path = os.path.join(DATA_DIR, 'test.csv')\n",
    "material_path = os.path.join(DATA_DIR, 'material.csv')\n",
    "techniques_path = os.path.join(DATA_DIR, 'techniques.csv')\n",
    "\n",
    "train_df = pd.read_csv(train_csv_path)\n",
    "test_df = pd.read_csv(test_csv_path)"
   ]
  },
  {
   "cell_type": "code",
   "execution_count": null,
   "metadata": {},
   "outputs": [],
   "source": [
    "BATCH_SIZE = 64\n",
    "L_RATE = 1e-2"
   ]
  },
  {
   "cell_type": "code",
   "execution_count": null,
   "metadata": {},
   "outputs": [],
   "source": [
    "class atmaDataset(data.Dataset):\n",
    "    def __init__(self, img_name_df, target_df, trans):\n",
    "        self.img_name = list(img_name_df)\n",
    "        self.label = list(target_df)\n",
    "\n",
    "        self.trans = trans\n",
    "\n",
    "    def __len__(self):\n",
    "        return len(self.img_name)\n",
    "\n",
    "    def __getitem__(self, idx):\n",
    "        img_path = os.path.join(DATA_DIR, 'photos', self.img_name[idx] + '.jpg')\n",
    "        img = Image.open(img_path)\n",
    "        img = self.trans(img)\n",
    "\n",
    "        tar = self.label[idx]\n",
    "        tar = torch.tensor(tar, dtype=torch.float32).unsqueeze(-1)\n",
    "\n",
    "        return img, tar"
   ]
  },
  {
   "cell_type": "code",
   "execution_count": null,
   "metadata": {},
   "outputs": [],
   "source": [
    "class ResNet18(pl.LightningModule):\n",
    "    def __init__(self, out_dim=1):\n",
    "        super().__init__()\n",
    "\n",
    "        resnet18 = models.resnet18(pretrained=False)\n",
    "        layers = list(resnet18.children())[:-1]\n",
    "\n",
    "        self.feature = nn.Sequential(*layers)\n",
    "        self.fc = nn.Linear(512, out_dim)\n",
    "\n",
    "    def forward(self, x):\n",
    "        x = self.feature(x)\n",
    "        x = x.squeeze()\n",
    "        out = self.fc(x)\n",
    "\n",
    "        return out\n",
    "\n",
    "    def training_step(self, batch, batch_idx):\n",
    "        x, t = batch\n",
    "        y = self(x)\n",
    "        loss = torch.sqrt(F.mse_loss(y, t))\n",
    "        self.log('train_loss', loss, on_step=True, on_epoch=True, prog_bar=True)\n",
    "        return loss\n",
    "\n",
    "    def validation_step(self, batch, batch_idx):\n",
    "        x, t = batch\n",
    "        y = self(x)\n",
    "        loss = torch.sqrt(F.mse_loss(y, t))\n",
    "        self.log('val_loss', loss, on_step=False, on_epoch=True)\n",
    "        return loss\n",
    "\n",
    "    def configure_optimizers(self):\n",
    "        optimizer = torch.optim.Adam(self.parameters(), lr=L_RATE)\n",
    "        return optimizer"
   ]
  },
  {
   "cell_type": "code",
   "execution_count": null,
   "metadata": {
    "tags": []
   },
   "outputs": [],
   "source": [
    "### training roop\n",
    "from sklearn.model_selection import StratifiedKFold\n",
    "\n",
    "skf = StratifiedKFold(n_splits=5)\n",
    "\n",
    "train_transforms = transforms.Compose([\n",
    "    transforms.RandomResizedCrop(256),\n",
    "    transforms.RandomHorizontalFlip(p=0.5),\n",
    "    transforms.ToTensor(),\n",
    "    transforms.Normalize(mean=[0.485, 0.456, 0.406], std=[0.229, 0.224, 0.225])\n",
    "])\n",
    "\n",
    "val_transforms = transforms.Compose([\n",
    "    transforms.Resize((256, 256)),\n",
    "    transforms.ToTensor(),\n",
    "    transforms.Normalize(mean=[0.485, 0.456, 0.406], std=[0.229, 0.224, 0.225])\n",
    "])\n",
    "\n",
    "for train, val in skf.split(train_df['object_id'], train_df['target']):\n",
    "    tr_dataset = atmaDataset(train_df.object_id[train], train_df.target[train], train_transforms)\n",
    "    vl_dataset = atmaDataset(train_df.object_id[val], train_df.target[val], val_transforms)\n",
    "\n",
    "    train_loader = torch.utils.data.DataLoader(tr_dataset, BATCH_SIZE, shuffle=True, drop_last=True, num_workers=0)\n",
    "    val_loader = torch.utils.data.DataLoader(vl_dataset, BATCH_SIZE, shuffle=False, num_workers=0)\n",
    "\n",
    "    net = ResNet18()\n",
    "    logger = CSVLogger(save_dir='logs', name='my_exp')\n",
    "    trainer = pl.Trainer(max_epochs=1, gpus=1, deterministic=True, logger=logger)\n",
    "    trainer.fit(net, train_loader, val_loader)"
   ]
  },
  {
   "cell_type": "code",
   "execution_count": null,
   "metadata": {},
   "outputs": [],
   "source": []
  }
 ]
}