{
 "cells": [
  {
   "cell_type": "code",
   "execution_count": 3,
   "metadata": {},
   "outputs": [
    {
     "name": "stderr",
     "output_type": "stream",
     "text": [
      "Global seed set to 765\n"
     ]
    }
   ],
   "source": [
    "import os\n",
    "import numpy as np\n",
    "import pandas as pd\n",
    "from PIL import Image\n",
    "import matplotlib.pyplot as plt\n",
    "\n",
    "import torch\n",
    "import torch.nn as nn\n",
    "import torch.nn.functional as F\n",
    "import torch.utils.data as data\n",
    "\n",
    "import torchvision.transforms as transforms\n",
    "import torchvision.models as models\n",
    "\n",
    "import pytorch_lightning as pl\n",
    "from pytorch_lightning.loggers import CSVLogger\n",
    "pl.seed_everything(765)\n",
    "\n",
    "DATA_DIR = 'C:/Users/Junya/Desktop/dataset_atmaCup11'\n",
    "\n",
    "train_csv_path = os.path.join(DATA_DIR, 'train.csv')\n",
    "test_csv_path = os.path.join(DATA_DIR, 'test.csv')\n",
    "material_path = os.path.join(DATA_DIR, 'material.csv')\n",
    "techniques_path = os.path.join(DATA_DIR, 'techniques.csv')\n",
    "\n",
    "test_df = pd.read_csv(test_csv_path)\n",
    "\n",
    "class atmaDataset(data.Dataset):\n",
    "    def __init__(self, img_name_df, target_df, trans):\n",
    "        self.img_name = list(img_name_df)\n",
    "        self.label = list(target_df)\n",
    "\n",
    "        self.trans = trans\n",
    "\n",
    "    def __len__(self):\n",
    "        return len(self.img_name)\n",
    "\n",
    "    def __getitem__(self, idx):\n",
    "        img_path = os.path.join(DATA_DIR, 'photos', self.img_name[idx] + '.jpg')\n",
    "        img = Image.open(img_path)\n",
    "        img = self.trans(img)\n",
    "\n",
    "        tar = self.label[idx]\n",
    "        tar = torch.tensor(tar, dtype=torch.float32).unsqueeze(-1)\n",
    "\n",
    "        return img, tar\n",
    "\n",
    "class ResNet18(pl.LightningModule):\n",
    "    def __init__(self, out_dim=1):\n",
    "        super().__init__()\n",
    "\n",
    "        resnet18 = models.resnet18(pretrained=False)\n",
    "        layers = list(resnet18.children())[:-1]\n",
    "\n",
    "        self.feature = nn.Sequential(*layers)\n",
    "        self.fc = nn.Linear(512, out_dim)\n",
    "\n",
    "    def forward(self, x):\n",
    "        x = self.feature(x)\n",
    "        x = x.squeeze()\n",
    "        out = self.fc(x)\n",
    "\n",
    "        return out\n",
    "\n",
    "### training roop\n",
    "from sklearn.model_selection import StratifiedKFold\n",
    "\n",
    "skf = StratifiedKFold(n_splits=5)\n",
    "\n",
    "val_transforms = transforms.Compose([\n",
    "    transforms.Resize((256, 256)),\n",
    "    transforms.ToTensor(),\n",
    "    transforms.Normalize(mean=[0.485, 0.456, 0.406], std=[0.229, 0.224, 0.225])\n",
    "])\n",
    "\n",
    "submission = pd.DataFrame()"
   ]
  },
  {
   "cell_type": "code",
   "execution_count": 8,
   "metadata": {},
   "outputs": [],
   "source": [
    "res = np.zeros((len(test_df), 1), dtype=np.float32)\n",
    "for model_path in ['lightning_logs/version_0/checkpoints/epoch=44-step=2204.ckpt', 'lightning_logs/version_1/checkpoints/epoch=91-step=4507.ckpt', 'lightning_logs/version_2/checkpoints/epoch=67-step=3331.ckpt', 'lightning_logs/version_3/checkpoints/epoch=84-step=4164.ckpt', 'lightning_logs/version_4/checkpoints/epoch=94-step=4654.ckpt']:\n",
    "    cv_res = []\n",
    "    model = ResNet18().load_from_checkpoint(model_path).eval().cuda()\n",
    "\n",
    "    for i, test in enumerate(test_df['object_id']):\n",
    "        img_path = os.path.join(DATA_DIR, 'photos', test + '.jpg')\n",
    "        img = Image.open(img_path)\n",
    "        img = val_transforms(img)\n",
    "        img.unsqueeze_(0)\n",
    "\n",
    "        img = img.cuda()\n",
    "\n",
    "        output = model(img).data.cpu().numpy()\n",
    "        cv_res.append(output)\n",
    "\n",
    "        if i == 5:\n",
    "            break\n",
    "\n",
    "    res += np.array(cv_res)"
   ]
  },
  {
   "cell_type": "code",
   "execution_count": 10,
   "metadata": {},
   "outputs": [
    {
     "data": {
      "text/plain": [
       "array([[1.2261925 ],\n",
       "       [2.0402622 ],\n",
       "       [1.6852484 ],\n",
       "       [1.800813  ],\n",
       "       [0.72847545],\n",
       "       [1.7500994 ]], dtype=float32)"
      ]
     },
     "execution_count": 10,
     "metadata": {},
     "output_type": "execute_result"
    }
   ],
   "source": [
    "res / 5"
   ]
  },
  {
   "cell_type": "code",
   "execution_count": 2,
   "metadata": {},
   "outputs": [],
   "source": [
    "import pandas as pd"
   ]
  },
  {
   "cell_type": "code",
   "execution_count": 2,
   "metadata": {},
   "outputs": [],
   "source": [
    "df_256 = pd.read_csv('logs_test/exp11-freeze-double-0722-133429/submission_exp11-freeze-double.csv')\n",
    "df_320 = pd.read_csv('logs_test/exp11-freeze-double-320-0722-134242/submission_exp11-freeze-double.csv')\n",
    "df_352 = pd.read_csv('logs_test/exp11-freeze-double-352-0722-140003/submission_exp11-freeze-double-352.csv')"
   ]
  },
  {
   "cell_type": "code",
   "execution_count": 9,
   "metadata": {},
   "outputs": [],
   "source": [
    "res_df = df_320 + df_352"
   ]
  },
  {
   "cell_type": "code",
   "execution_count": 10,
   "metadata": {},
   "outputs": [],
   "source": [
    "res_df = res_df.div(2, axis=1)"
   ]
  },
  {
   "cell_type": "code",
   "execution_count": 11,
   "metadata": {},
   "outputs": [],
   "source": [
    "res_df.to_csv('submission_two_avg.csv', index=False)"
   ]
  },
  {
   "cell_type": "code",
   "execution_count": 3,
   "metadata": {},
   "outputs": [],
   "source": [
    "df_double = pd.read_csv('logs_test/exp11-freeze-double-352-0722-140003/submission_exp11-freeze-double-352.csv')\n",
    "df_tri = pd.read_csv('logs_test/exp13-freeze-triplenet-0722-170143/submission_exp13-freeze-triplenet-352.csv')"
   ]
  },
  {
   "cell_type": "code",
   "execution_count": 4,
   "metadata": {},
   "outputs": [],
   "source": [
    "res_df = df_double + df_tri\n",
    "res_df = res_df.div(2, axis=1)\n",
    "res_df.to_csv('submission_two_avg_double_and_triple.csv', index=False)"
   ]
  },
  {
   "cell_type": "code",
   "execution_count": null,
   "metadata": {},
   "outputs": [],
   "source": []
  }
 ],
 "metadata": {
  "interpreter": {
   "hash": "66e7e79746a5652c9884bcf35bf0bb44599af9f75fa0ac5ae206246ca5ae4986"
  },
  "kernelspec": {
   "display_name": "Python 3.6.7 64-bit ('shims': pyenv)",
   "language": "python",
   "name": "python367jvsc74a57bd0473cbe5fb64ad6b83afff416155d90e90e146c945e02d5029847b249d0b69f8e"
  },
  "language_info": {
   "codemirror_mode": {
    "name": "ipython",
    "version": 3
   },
   "file_extension": ".py",
   "mimetype": "text/x-python",
   "name": "python",
   "nbconvert_exporter": "python",
   "pygments_lexer": "ipython3",
   "version": "3.6.7"
  },
  "orig_nbformat": 4
 },
 "nbformat": 4,
 "nbformat_minor": 2
}