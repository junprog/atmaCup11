{
 "metadata": {
  "language_info": {
   "codemirror_mode": {
    "name": "ipython",
    "version": 3
   },
   "file_extension": ".py",
   "mimetype": "text/x-python",
   "name": "python",
   "nbconvert_exporter": "python",
   "pygments_lexer": "ipython3",
   "version": "3.8.10"
  },
  "orig_nbformat": 4,
  "kernelspec": {
   "name": "python3",
   "display_name": "Python 3.8.10 64-bit ('kaggle': conda)"
  },
  "interpreter": {
   "hash": "66e7e79746a5652c9884bcf35bf0bb44599af9f75fa0ac5ae206246ca5ae4986"
  }
 },
 "nbformat": 4,
 "nbformat_minor": 2,
 "cells": [
  {
   "cell_type": "code",
   "execution_count": 3,
   "metadata": {},
   "outputs": [
    {
     "output_type": "stream",
     "name": "stderr",
     "text": [
      "Global seed set to 765\n"
     ]
    }
   ],
   "source": [
    "import os\n",
    "import numpy as np\n",
    "import pandas as pd\n",
    "from PIL import Image\n",
    "import matplotlib.pyplot as plt\n",
    "\n",
    "import torch\n",
    "import torch.nn as nn\n",
    "import torch.nn.functional as F\n",
    "import torch.utils.data as data\n",
    "\n",
    "import torchvision.transforms as transforms\n",
    "import torchvision.models as models\n",
    "\n",
    "import pytorch_lightning as pl\n",
    "from pytorch_lightning.loggers import CSVLogger\n",
    "pl.seed_everything(765)\n",
    "\n",
    "DATA_DIR = 'C:/Users/Junya/Desktop/dataset_atmaCup11'\n",
    "\n",
    "train_csv_path = os.path.join(DATA_DIR, 'train.csv')\n",
    "test_csv_path = os.path.join(DATA_DIR, 'test.csv')\n",
    "material_path = os.path.join(DATA_DIR, 'material.csv')\n",
    "techniques_path = os.path.join(DATA_DIR, 'techniques.csv')\n",
    "\n",
    "test_df = pd.read_csv(test_csv_path)\n",
    "\n",
    "class atmaDataset(data.Dataset):\n",
    "    def __init__(self, img_name_df, target_df, trans):\n",
    "        self.img_name = list(img_name_df)\n",
    "        self.label = list(target_df)\n",
    "\n",
    "        self.trans = trans\n",
    "\n",
    "    def __len__(self):\n",
    "        return len(self.img_name)\n",
    "\n",
    "    def __getitem__(self, idx):\n",
    "        img_path = os.path.join(DATA_DIR, 'photos', self.img_name[idx] + '.jpg')\n",
    "        img = Image.open(img_path)\n",
    "        img = self.trans(img)\n",
    "\n",
    "        tar = self.label[idx]\n",
    "        tar = torch.tensor(tar, dtype=torch.float32).unsqueeze(-1)\n",
    "\n",
    "        return img, tar\n",
    "\n",
    "class ResNet18(pl.LightningModule):\n",
    "    def __init__(self, out_dim=1):\n",
    "        super().__init__()\n",
    "\n",
    "        resnet18 = models.resnet18(pretrained=False)\n",
    "        layers = list(resnet18.children())[:-1]\n",
    "\n",
    "        self.feature = nn.Sequential(*layers)\n",
    "        self.fc = nn.Linear(512, out_dim)\n",
    "\n",
    "    def forward(self, x):\n",
    "        x = self.feature(x)\n",
    "        x = x.squeeze()\n",
    "        out = self.fc(x)\n",
    "\n",
    "        return out\n",
    "\n",
    "### training roop\n",
    "from sklearn.model_selection import StratifiedKFold\n",
    "\n",
    "skf = StratifiedKFold(n_splits=5)\n",
    "\n",
    "val_transforms = transforms.Compose([\n",
    "    transforms.Resize((256, 256)),\n",
    "    transforms.ToTensor(),\n",
    "    transforms.Normalize(mean=[0.485, 0.456, 0.406], std=[0.229, 0.224, 0.225])\n",
    "])\n",
    "\n",
    "submission = pd.DataFrame()"
   ]
  },
  {
   "cell_type": "code",
   "execution_count": 8,
   "metadata": {},
   "outputs": [],
   "source": [
    "res = np.zeros((len(test_df), 1), dtype=np.float32)\n",
    "for model_path in ['lightning_logs/version_0/checkpoints/epoch=44-step=2204.ckpt', 'lightning_logs/version_1/checkpoints/epoch=91-step=4507.ckpt', 'lightning_logs/version_2/checkpoints/epoch=67-step=3331.ckpt', 'lightning_logs/version_3/checkpoints/epoch=84-step=4164.ckpt', 'lightning_logs/version_4/checkpoints/epoch=94-step=4654.ckpt']:\n",
    "    cv_res = []\n",
    "    model = ResNet18().load_from_checkpoint(model_path).eval().cuda()\n",
    "\n",
    "    for i, test in enumerate(test_df['object_id']):\n",
    "        img_path = os.path.join(DATA_DIR, 'photos', test + '.jpg')\n",
    "        img = Image.open(img_path)\n",
    "        img = val_transforms(img)\n",
    "        img.unsqueeze_(0)\n",
    "\n",
    "        img = img.cuda()\n",
    "\n",
    "        output = model(img).data.cpu().numpy()\n",
    "        cv_res.append(output)\n",
    "\n",
    "        if i == 5:\n",
    "            break\n",
    "\n",
    "    res += np.array(cv_res)"
   ]
  },
  {
   "cell_type": "code",
   "execution_count": 10,
   "metadata": {},
   "outputs": [
    {
     "output_type": "execute_result",
     "data": {
      "text/plain": [
       "array([[1.2261925 ],\n",
       "       [2.0402622 ],\n",
       "       [1.6852484 ],\n",
       "       [1.800813  ],\n",
       "       [0.72847545],\n",
       "       [1.7500994 ]], dtype=float32)"
      ]
     },
     "metadata": {},
     "execution_count": 10
    }
   ],
   "source": [
    "res / 5"
   ]
  },
  {
   "cell_type": "code",
   "execution_count": null,
   "metadata": {},
   "outputs": [],
   "source": []
  }
 ]
}