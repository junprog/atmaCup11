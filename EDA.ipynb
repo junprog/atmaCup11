{
 "metadata": {
  "language_info": {
   "codemirror_mode": {
    "name": "ipython",
    "version": 3
   },
   "file_extension": ".py",
   "mimetype": "text/x-python",
   "name": "python",
   "nbconvert_exporter": "python",
   "pygments_lexer": "ipython3",
   "version": "3.8.10"
  },
  "orig_nbformat": 4,
  "kernelspec": {
   "name": "python3",
   "display_name": "Python 3.8.10 64-bit ('kaggle': conda)"
  },
  "interpreter": {
   "hash": "66e7e79746a5652c9884bcf35bf0bb44599af9f75fa0ac5ae206246ca5ae4986"
  }
 },
 "nbformat": 4,
 "nbformat_minor": 2,
 "cells": [
  {
   "cell_type": "code",
   "execution_count": 1,
   "metadata": {},
   "outputs": [
    {
     "output_type": "stream",
     "name": "stderr",
     "text": [
      "UsageError: Line magic function `%matplolib` not found.\n"
     ]
    }
   ],
   "source": [
    "import os\n",
    "\n",
    "import pandas as pd\n",
    "import numpy as np\n",
    "from matplotlib import pyplot as plt\n",
    "%matplolib inline\n",
    "\n",
    "from PIL import Image\n",
    "import glob"
   ]
  },
  {
   "cell_type": "code",
   "execution_count": 2,
   "metadata": {},
   "outputs": [
    {
     "output_type": "execute_result",
     "data": {
      "text/plain": [
       "['atmaCup#11_sample_submission.csv',\n",
       " 'materials.csv',\n",
       " 'techniques.csv',\n",
       " 'test.csv',\n",
       " 'train.csv']"
      ]
     },
     "metadata": {},
     "execution_count": 2
    }
   ],
   "source": [
    "DATA_DIR = 'C:/Users/Junya/Desktop/dataset_atmaCup11'\n",
    "\n",
    "csv_list = [csv_file_name for csv_file_name in os.listdir(DATA_DIR) if '.csv' in csv_file_name]\n",
    "csv_list"
   ]
  },
  {
   "cell_type": "code",
   "execution_count": 10,
   "metadata": {},
   "outputs": [],
   "source": [
    "train = pd.read_csv(os.path.join(DATA_DIR, 'train.csv'))\n",
    "test = pd.read_csv(os.path.join(DATA_DIR, 'test.csv'))\n",
    "mate = pd.read_csv(os.path.join(DATA_DIR, 'materials.csv'))\n",
    "tech = pd.read_csv(os.path.join(DATA_DIR, 'techniques.csv'))"
   ]
  },
  {
   "cell_type": "code",
   "execution_count": 4,
   "metadata": {},
   "outputs": [
    {
     "output_type": "execute_result",
     "data": {
      "text/plain": [
       "              object_id  sorting_date         art_series_id  target\n",
       "0  002bff09b09998d0be65          1631  509357f67692a6a45626       1\n",
       "1  00309fb1ef05416f9c1f          1900  7987b47bbe5dc3039179       3\n",
       "2  003a1562e97f79ba96dc          1834  ded7c3c9636708e5b14c       3\n",
       "3  004890880e8e7431147b          1743  582ac2d7f0cef195b605       2\n",
       "4  00718c32602425f504c1          1885  64c907f0c08dce4fb8e8       3\n",
       "5  007c091616828798b5e1          1839  e9440b5eb4b77f1ce0e3       3\n",
       "6  007f5e3620b458d77212          1640  b869fd8334a3a591084e       1\n",
       "7  00990614b43285e49f4a          1893  8134b18cdc27af23e1a8       3\n",
       "8  00bf812ffe8a62d45661          1720  3bfd41016d864e3fd8b5       2\n",
       "9  00c93e990e799fb3d8c9          1775  2d29062fe2b09738757b       2"
      ],
      "text/html": "<div>\n<style scoped>\n    .dataframe tbody tr th:only-of-type {\n        vertical-align: middle;\n    }\n\n    .dataframe tbody tr th {\n        vertical-align: top;\n    }\n\n    .dataframe thead th {\n        text-align: right;\n    }\n</style>\n<table border=\"1\" class=\"dataframe\">\n  <thead>\n    <tr style=\"text-align: right;\">\n      <th></th>\n      <th>object_id</th>\n      <th>sorting_date</th>\n      <th>art_series_id</th>\n      <th>target</th>\n    </tr>\n  </thead>\n  <tbody>\n    <tr>\n      <th>0</th>\n      <td>002bff09b09998d0be65</td>\n      <td>1631</td>\n      <td>509357f67692a6a45626</td>\n      <td>1</td>\n    </tr>\n    <tr>\n      <th>1</th>\n      <td>00309fb1ef05416f9c1f</td>\n      <td>1900</td>\n      <td>7987b47bbe5dc3039179</td>\n      <td>3</td>\n    </tr>\n    <tr>\n      <th>2</th>\n      <td>003a1562e97f79ba96dc</td>\n      <td>1834</td>\n      <td>ded7c3c9636708e5b14c</td>\n      <td>3</td>\n    </tr>\n    <tr>\n      <th>3</th>\n      <td>004890880e8e7431147b</td>\n      <td>1743</td>\n      <td>582ac2d7f0cef195b605</td>\n      <td>2</td>\n    </tr>\n    <tr>\n      <th>4</th>\n      <td>00718c32602425f504c1</td>\n      <td>1885</td>\n      <td>64c907f0c08dce4fb8e8</td>\n      <td>3</td>\n    </tr>\n    <tr>\n      <th>5</th>\n      <td>007c091616828798b5e1</td>\n      <td>1839</td>\n      <td>e9440b5eb4b77f1ce0e3</td>\n      <td>3</td>\n    </tr>\n    <tr>\n      <th>6</th>\n      <td>007f5e3620b458d77212</td>\n      <td>1640</td>\n      <td>b869fd8334a3a591084e</td>\n      <td>1</td>\n    </tr>\n    <tr>\n      <th>7</th>\n      <td>00990614b43285e49f4a</td>\n      <td>1893</td>\n      <td>8134b18cdc27af23e1a8</td>\n      <td>3</td>\n    </tr>\n    <tr>\n      <th>8</th>\n      <td>00bf812ffe8a62d45661</td>\n      <td>1720</td>\n      <td>3bfd41016d864e3fd8b5</td>\n      <td>2</td>\n    </tr>\n    <tr>\n      <th>9</th>\n      <td>00c93e990e799fb3d8c9</td>\n      <td>1775</td>\n      <td>2d29062fe2b09738757b</td>\n      <td>2</td>\n    </tr>\n  </tbody>\n</table>\n</div>"
     },
     "metadata": {},
     "execution_count": 4
    }
   ],
   "source": [
    "train.head(10)"
   ]
  },
  {
   "cell_type": "code",
   "execution_count": 5,
   "metadata": {},
   "outputs": [
    {
     "output_type": "execute_result",
     "data": {
      "text/plain": [
       "(3937, 5919)"
      ]
     },
     "metadata": {},
     "execution_count": 5
    }
   ],
   "source": [
    "len(train), len(test)"
   ]
  },
  {
   "cell_type": "code",
   "execution_count": 6,
   "metadata": {},
   "outputs": [
    {
     "output_type": "execute_result",
     "data": {
      "text/plain": [
       "3937"
      ]
     },
     "metadata": {},
     "execution_count": 6
    }
   ],
   "source": [
    "len(train['object_id'].unique())"
   ]
  },
  {
   "cell_type": "code",
   "execution_count": 9,
   "metadata": {},
   "outputs": [
    {
     "output_type": "execute_result",
     "data": {
      "text/plain": [
       "(array([  2.,   4.,   1.,   2.,   0.,   3.,   3.,   1.,   1.,   3.,  23.,\n",
       "          4.,  13.,   9.,   2.,   7.,  10.,  19.,  15.,  32.,  13.,  34.,\n",
       "          9.,  13.,  40.,  14.,  27.,  25.,  29., 143.,  59.,  15.,  78.,\n",
       "         37.,  44.,  52.,  20.,  64.,  51.,  50.,  17.,  36.,  19.,  74.,\n",
       "         58.,  18.,  14., 207.,  73.,  46.,  44.,  37.,  57.,  44.,  49.,\n",
       "         51., 130.,  54.,  90.,  77., 203., 117., 194.,  97.,  75.,  65.,\n",
       "         68.,  53.,  90.,  39.,  86.,  97.,  82.,  48.,  87.,  17.,  15.,\n",
       "         72., 147.,  29.,  16.,  13.,  13.,  16.,  10.,   3.,   3.,   2.,\n",
       "          1.,   4.,   3.,   2.,   0.,   0.,   0.,   0.,   1.,   0.,   2.,\n",
       "          1.]),\n",
       " array([1440.  , 1445.51, 1451.02, 1456.53, 1462.04, 1467.55, 1473.06,\n",
       "        1478.57, 1484.08, 1489.59, 1495.1 , 1500.61, 1506.12, 1511.63,\n",
       "        1517.14, 1522.65, 1528.16, 1533.67, 1539.18, 1544.69, 1550.2 ,\n",
       "        1555.71, 1561.22, 1566.73, 1572.24, 1577.75, 1583.26, 1588.77,\n",
       "        1594.28, 1599.79, 1605.3 , 1610.81, 1616.32, 1621.83, 1627.34,\n",
       "        1632.85, 1638.36, 1643.87, 1649.38, 1654.89, 1660.4 , 1665.91,\n",
       "        1671.42, 1676.93, 1682.44, 1687.95, 1693.46, 1698.97, 1704.48,\n",
       "        1709.99, 1715.5 , 1721.01, 1726.52, 1732.03, 1737.54, 1743.05,\n",
       "        1748.56, 1754.07, 1759.58, 1765.09, 1770.6 , 1776.11, 1781.62,\n",
       "        1787.13, 1792.64, 1798.15, 1803.66, 1809.17, 1814.68, 1820.19,\n",
       "        1825.7 , 1831.21, 1836.72, 1842.23, 1847.74, 1853.25, 1858.76,\n",
       "        1864.27, 1869.78, 1875.29, 1880.8 , 1886.31, 1891.82, 1897.33,\n",
       "        1902.84, 1908.35, 1913.86, 1919.37, 1924.88, 1930.39, 1935.9 ,\n",
       "        1941.41, 1946.92, 1952.43, 1957.94, 1963.45, 1968.96, 1974.47,\n",
       "        1979.98, 1985.49, 1991.  ]),\n",
       " <BarContainer object of 100 artists>)"
      ]
     },
     "metadata": {},
     "execution_count": 9
    },
    {
     "output_type": "display_data",
     "data": {
      "text/plain": "<Figure size 432x288 with 1 Axes>",
      "image/svg+xml": "<?xml version=\"1.0\" encoding=\"utf-8\" standalone=\"no\"?>\r\n<!DOCTYPE svg PUBLIC \"-//W3C//DTD SVG 1.1//EN\"\r\n  \"http://www.w3.org/Graphics/SVG/1.1/DTD/svg11.dtd\">\r\n<!-- Created with matplotlib (https://matplotlib.org/) -->\r\n<svg height=\"248.518125pt\" version=\"1.1\" viewBox=\"0 0 377.765775 248.518125\" width=\"377.765775pt\" xmlns=\"http://www.w3.org/2000/svg\" xmlns:xlink=\"http://www.w3.org/1999/xlink\">\r\n <metadata>\r\n  <rdf:RDF xmlns:cc=\"http://creativecommons.org/ns#\" xmlns:dc=\"http://purl.org/dc/elements/1.1/\" xmlns:rdf=\"http://www.w3.org/1999/02/22-rdf-syntax-ns#\">\r\n   <cc:Work>\r\n    <dc:type rdf:resource=\"http://purl.org/dc/dcmitype/StillImage\"/>\r\n    <dc:date>2021-07-10T02:20:21.580063</dc:date>\r\n    <dc:format>image/svg+xml</dc:format>\r\n    <dc:creator>\r\n     <cc:Agent>\r\n      <dc:title>Matplotlib v3.3.4, https://matplotlib.org/</dc:title>\r\n     </cc:Agent>\r\n    </dc:creator>\r\n   </cc:Work>\r\n  </rdf:RDF>\r\n </metadata>\r\n <defs>\r\n  <style type=\"text/css\">*{stroke-linecap:butt;stroke-linejoin:round;}</style>\r\n </defs>\r\n <g id=\"figure_1\">\r\n  <g id=\"patch_1\">\r\n   <path d=\"M 0 248.518125 \r\nL 377.765775 248.518125 \r\nL 377.765775 0 \r\nL 0 0 \r\nz\r\n\" style=\"fill:none;\"/>\r\n  </g>\r\n  <g id=\"axes_1\">\r\n   <g id=\"patch_2\">\r\n    <path d=\"M 33.2875 224.64 \r\nL 368.0875 224.64 \r\nL 368.0875 7.2 \r\nL 33.2875 7.2 \r\nz\r\n\" style=\"fill:#ffffff;\"/>\r\n   </g>\r\n   <g id=\"patch_3\">\r\n    <path clip-path=\"url(#pf54885cfe6)\" d=\"M 48.505682 224.64 \r\nL 51.549318 224.64 \r\nL 51.549318 222.639172 \r\nL 48.505682 222.639172 \r\nz\r\n\" style=\"fill:#1f77b4;\"/>\r\n   </g>\r\n   <g id=\"patch_4\">\r\n    <path clip-path=\"url(#pf54885cfe6)\" d=\"M 51.549318 224.64 \r\nL 54.592955 224.64 \r\nL 54.592955 220.638344 \r\nL 51.549318 220.638344 \r\nz\r\n\" style=\"fill:#1f77b4;\"/>\r\n   </g>\r\n   <g id=\"patch_5\">\r\n    <path clip-path=\"url(#pf54885cfe6)\" d=\"M 54.592955 224.64 \r\nL 57.636591 224.64 \r\nL 57.636591 223.639586 \r\nL 54.592955 223.639586 \r\nz\r\n\" style=\"fill:#1f77b4;\"/>\r\n   </g>\r\n   <g id=\"patch_6\">\r\n    <path clip-path=\"url(#pf54885cfe6)\" d=\"M 57.636591 224.64 \r\nL 60.680227 224.64 \r\nL 60.680227 222.639172 \r\nL 57.636591 222.639172 \r\nz\r\n\" style=\"fill:#1f77b4;\"/>\r\n   </g>\r\n   <g id=\"patch_7\">\r\n    <path clip-path=\"url(#pf54885cfe6)\" d=\"M 60.680227 224.64 \r\nL 63.723864 224.64 \r\nL 63.723864 224.64 \r\nL 60.680227 224.64 \r\nz\r\n\" style=\"fill:#1f77b4;\"/>\r\n   </g>\r\n   <g id=\"patch_8\">\r\n    <path clip-path=\"url(#pf54885cfe6)\" d=\"M 63.723864 224.64 \r\nL 66.7675 224.64 \r\nL 66.7675 221.638758 \r\nL 63.723864 221.638758 \r\nz\r\n\" style=\"fill:#1f77b4;\"/>\r\n   </g>\r\n   <g id=\"patch_9\">\r\n    <path clip-path=\"url(#pf54885cfe6)\" d=\"M 66.7675 224.64 \r\nL 69.811136 224.64 \r\nL 69.811136 221.638758 \r\nL 66.7675 221.638758 \r\nz\r\n\" style=\"fill:#1f77b4;\"/>\r\n   </g>\r\n   <g id=\"patch_10\">\r\n    <path clip-path=\"url(#pf54885cfe6)\" d=\"M 69.811136 224.64 \r\nL 72.854773 224.64 \r\nL 72.854773 223.639586 \r\nL 69.811136 223.639586 \r\nz\r\n\" style=\"fill:#1f77b4;\"/>\r\n   </g>\r\n   <g id=\"patch_11\">\r\n    <path clip-path=\"url(#pf54885cfe6)\" d=\"M 72.854773 224.64 \r\nL 75.898409 224.64 \r\nL 75.898409 223.639586 \r\nL 72.854773 223.639586 \r\nz\r\n\" style=\"fill:#1f77b4;\"/>\r\n   </g>\r\n   <g id=\"patch_12\">\r\n    <path clip-path=\"url(#pf54885cfe6)\" d=\"M 75.898409 224.64 \r\nL 78.942045 224.64 \r\nL 78.942045 221.638758 \r\nL 75.898409 221.638758 \r\nz\r\n\" style=\"fill:#1f77b4;\"/>\r\n   </g>\r\n   <g id=\"patch_13\">\r\n    <path clip-path=\"url(#pf54885cfe6)\" d=\"M 78.942045 224.64 \r\nL 81.985682 224.64 \r\nL 81.985682 201.630476 \r\nL 78.942045 201.630476 \r\nz\r\n\" style=\"fill:#1f77b4;\"/>\r\n   </g>\r\n   <g id=\"patch_14\">\r\n    <path clip-path=\"url(#pf54885cfe6)\" d=\"M 81.985682 224.64 \r\nL 85.029318 224.64 \r\nL 85.029318 220.638344 \r\nL 81.985682 220.638344 \r\nz\r\n\" style=\"fill:#1f77b4;\"/>\r\n   </g>\r\n   <g id=\"patch_15\">\r\n    <path clip-path=\"url(#pf54885cfe6)\" d=\"M 85.029318 224.64 \r\nL 88.072955 224.64 \r\nL 88.072955 211.634617 \r\nL 85.029318 211.634617 \r\nz\r\n\" style=\"fill:#1f77b4;\"/>\r\n   </g>\r\n   <g id=\"patch_16\">\r\n    <path clip-path=\"url(#pf54885cfe6)\" d=\"M 88.072955 224.64 \r\nL 91.116591 224.64 \r\nL 91.116591 215.636273 \r\nL 88.072955 215.636273 \r\nz\r\n\" style=\"fill:#1f77b4;\"/>\r\n   </g>\r\n   <g id=\"patch_17\">\r\n    <path clip-path=\"url(#pf54885cfe6)\" d=\"M 91.116591 224.64 \r\nL 94.160227 224.64 \r\nL 94.160227 222.639172 \r\nL 91.116591 222.639172 \r\nz\r\n\" style=\"fill:#1f77b4;\"/>\r\n   </g>\r\n   <g id=\"patch_18\">\r\n    <path clip-path=\"url(#pf54885cfe6)\" d=\"M 94.160227 224.64 \r\nL 97.203864 224.64 \r\nL 97.203864 217.637101 \r\nL 94.160227 217.637101 \r\nz\r\n\" style=\"fill:#1f77b4;\"/>\r\n   </g>\r\n   <g id=\"patch_19\">\r\n    <path clip-path=\"url(#pf54885cfe6)\" d=\"M 97.203864 224.64 \r\nL 100.2475 224.64 \r\nL 100.2475 214.635859 \r\nL 97.203864 214.635859 \r\nz\r\n\" style=\"fill:#1f77b4;\"/>\r\n   </g>\r\n   <g id=\"patch_20\">\r\n    <path clip-path=\"url(#pf54885cfe6)\" d=\"M 100.2475 224.64 \r\nL 103.291136 224.64 \r\nL 103.291136 205.632133 \r\nL 100.2475 205.632133 \r\nz\r\n\" style=\"fill:#1f77b4;\"/>\r\n   </g>\r\n   <g id=\"patch_21\">\r\n    <path clip-path=\"url(#pf54885cfe6)\" d=\"M 103.291136 224.64 \r\nL 106.334773 224.64 \r\nL 106.334773 209.633789 \r\nL 103.291136 209.633789 \r\nz\r\n\" style=\"fill:#1f77b4;\"/>\r\n   </g>\r\n   <g id=\"patch_22\">\r\n    <path clip-path=\"url(#pf54885cfe6)\" d=\"M 106.334773 224.64 \r\nL 109.378409 224.64 \r\nL 109.378409 192.626749 \r\nL 106.334773 192.626749 \r\nz\r\n\" style=\"fill:#1f77b4;\"/>\r\n   </g>\r\n   <g id=\"patch_23\">\r\n    <path clip-path=\"url(#pf54885cfe6)\" d=\"M 109.378409 224.64 \r\nL 112.422045 224.64 \r\nL 112.422045 211.634617 \r\nL 109.378409 211.634617 \r\nz\r\n\" style=\"fill:#1f77b4;\"/>\r\n   </g>\r\n   <g id=\"patch_24\">\r\n    <path clip-path=\"url(#pf54885cfe6)\" d=\"M 112.422045 224.64 \r\nL 115.465682 224.64 \r\nL 115.465682 190.625921 \r\nL 112.422045 190.625921 \r\nz\r\n\" style=\"fill:#1f77b4;\"/>\r\n   </g>\r\n   <g id=\"patch_25\">\r\n    <path clip-path=\"url(#pf54885cfe6)\" d=\"M 115.465682 224.64 \r\nL 118.509318 224.64 \r\nL 118.509318 215.636273 \r\nL 115.465682 215.636273 \r\nz\r\n\" style=\"fill:#1f77b4;\"/>\r\n   </g>\r\n   <g id=\"patch_26\">\r\n    <path clip-path=\"url(#pf54885cfe6)\" d=\"M 118.509318 224.64 \r\nL 121.552955 224.64 \r\nL 121.552955 211.634617 \r\nL 118.509318 211.634617 \r\nz\r\n\" style=\"fill:#1f77b4;\"/>\r\n   </g>\r\n   <g id=\"patch_27\">\r\n    <path clip-path=\"url(#pf54885cfe6)\" d=\"M 121.552955 224.64 \r\nL 124.596591 224.64 \r\nL 124.596591 184.623437 \r\nL 121.552955 184.623437 \r\nz\r\n\" style=\"fill:#1f77b4;\"/>\r\n   </g>\r\n   <g id=\"patch_28\">\r\n    <path clip-path=\"url(#pf54885cfe6)\" d=\"M 124.596591 224.64 \r\nL 127.640227 224.64 \r\nL 127.640227 210.634203 \r\nL 124.596591 210.634203 \r\nz\r\n\" style=\"fill:#1f77b4;\"/>\r\n   </g>\r\n   <g id=\"patch_29\">\r\n    <path clip-path=\"url(#pf54885cfe6)\" d=\"M 127.640227 224.64 \r\nL 130.683864 224.64 \r\nL 130.683864 197.62882 \r\nL 127.640227 197.62882 \r\nz\r\n\" style=\"fill:#1f77b4;\"/>\r\n   </g>\r\n   <g id=\"patch_30\">\r\n    <path clip-path=\"url(#pf54885cfe6)\" d=\"M 130.683864 224.64 \r\nL 133.7275 224.64 \r\nL 133.7275 199.629648 \r\nL 130.683864 199.629648 \r\nz\r\n\" style=\"fill:#1f77b4;\"/>\r\n   </g>\r\n   <g id=\"patch_31\">\r\n    <path clip-path=\"url(#pf54885cfe6)\" d=\"M 133.7275 224.64 \r\nL 136.771136 224.64 \r\nL 136.771136 195.627992 \r\nL 133.7275 195.627992 \r\nz\r\n\" style=\"fill:#1f77b4;\"/>\r\n   </g>\r\n   <g id=\"patch_32\">\r\n    <path clip-path=\"url(#pf54885cfe6)\" d=\"M 136.771136 224.64 \r\nL 139.814773 224.64 \r\nL 139.814773 81.580787 \r\nL 136.771136 81.580787 \r\nz\r\n\" style=\"fill:#1f77b4;\"/>\r\n   </g>\r\n   <g id=\"patch_33\">\r\n    <path clip-path=\"url(#pf54885cfe6)\" d=\"M 139.814773 224.64 \r\nL 142.858409 224.64 \r\nL 142.858409 165.615569 \r\nL 139.814773 165.615569 \r\nz\r\n\" style=\"fill:#1f77b4;\"/>\r\n   </g>\r\n   <g id=\"patch_34\">\r\n    <path clip-path=\"url(#pf54885cfe6)\" d=\"M 142.858409 224.64 \r\nL 145.902045 224.64 \r\nL 145.902045 209.633789 \r\nL 142.858409 209.633789 \r\nz\r\n\" style=\"fill:#1f77b4;\"/>\r\n   </g>\r\n   <g id=\"patch_35\">\r\n    <path clip-path=\"url(#pf54885cfe6)\" d=\"M 145.902045 224.64 \r\nL 148.945682 224.64 \r\nL 148.945682 146.607702 \r\nL 145.902045 146.607702 \r\nz\r\n\" style=\"fill:#1f77b4;\"/>\r\n   </g>\r\n   <g id=\"patch_36\">\r\n    <path clip-path=\"url(#pf54885cfe6)\" d=\"M 148.945682 224.64 \r\nL 151.989318 224.64 \r\nL 151.989318 187.624679 \r\nL 148.945682 187.624679 \r\nz\r\n\" style=\"fill:#1f77b4;\"/>\r\n   </g>\r\n   <g id=\"patch_37\">\r\n    <path clip-path=\"url(#pf54885cfe6)\" d=\"M 151.989318 224.64 \r\nL 155.032955 224.64 \r\nL 155.032955 180.621781 \r\nL 151.989318 180.621781 \r\nz\r\n\" style=\"fill:#1f77b4;\"/>\r\n   </g>\r\n   <g id=\"patch_38\">\r\n    <path clip-path=\"url(#pf54885cfe6)\" d=\"M 155.032955 224.64 \r\nL 158.076591 224.64 \r\nL 158.076591 172.618468 \r\nL 155.032955 172.618468 \r\nz\r\n\" style=\"fill:#1f77b4;\"/>\r\n   </g>\r\n   <g id=\"patch_39\">\r\n    <path clip-path=\"url(#pf54885cfe6)\" d=\"M 158.076591 224.64 \r\nL 161.120227 224.64 \r\nL 161.120227 204.631718 \r\nL 158.076591 204.631718 \r\nz\r\n\" style=\"fill:#1f77b4;\"/>\r\n   </g>\r\n   <g id=\"patch_40\">\r\n    <path clip-path=\"url(#pf54885cfe6)\" d=\"M 161.120227 224.64 \r\nL 164.163864 224.64 \r\nL 164.163864 160.613499 \r\nL 161.120227 160.613499 \r\nz\r\n\" style=\"fill:#1f77b4;\"/>\r\n   </g>\r\n   <g id=\"patch_41\">\r\n    <path clip-path=\"url(#pf54885cfe6)\" d=\"M 164.163864 224.64 \r\nL 167.2075 224.64 \r\nL 167.2075 173.618882 \r\nL 164.163864 173.618882 \r\nz\r\n\" style=\"fill:#1f77b4;\"/>\r\n   </g>\r\n   <g id=\"patch_42\">\r\n    <path clip-path=\"url(#pf54885cfe6)\" d=\"M 167.2075 224.64 \r\nL 170.251136 224.64 \r\nL 170.251136 174.619296 \r\nL 167.2075 174.619296 \r\nz\r\n\" style=\"fill:#1f77b4;\"/>\r\n   </g>\r\n   <g id=\"patch_43\">\r\n    <path clip-path=\"url(#pf54885cfe6)\" d=\"M 170.251136 224.64 \r\nL 173.294773 224.64 \r\nL 173.294773 207.632961 \r\nL 170.251136 207.632961 \r\nz\r\n\" style=\"fill:#1f77b4;\"/>\r\n   </g>\r\n   <g id=\"patch_44\">\r\n    <path clip-path=\"url(#pf54885cfe6)\" d=\"M 173.294773 224.64 \r\nL 176.338409 224.64 \r\nL 176.338409 188.625093 \r\nL 173.294773 188.625093 \r\nz\r\n\" style=\"fill:#1f77b4;\"/>\r\n   </g>\r\n   <g id=\"patch_45\">\r\n    <path clip-path=\"url(#pf54885cfe6)\" d=\"M 176.338409 224.64 \r\nL 179.382045 224.64 \r\nL 179.382045 205.632133 \r\nL 176.338409 205.632133 \r\nz\r\n\" style=\"fill:#1f77b4;\"/>\r\n   </g>\r\n   <g id=\"patch_46\">\r\n    <path clip-path=\"url(#pf54885cfe6)\" d=\"M 179.382045 224.64 \r\nL 182.425682 224.64 \r\nL 182.425682 150.609358 \r\nL 179.382045 150.609358 \r\nz\r\n\" style=\"fill:#1f77b4;\"/>\r\n   </g>\r\n   <g id=\"patch_47\">\r\n    <path clip-path=\"url(#pf54885cfe6)\" d=\"M 182.425682 224.64 \r\nL 185.469318 224.64 \r\nL 185.469318 166.615983 \r\nL 182.425682 166.615983 \r\nz\r\n\" style=\"fill:#1f77b4;\"/>\r\n   </g>\r\n   <g id=\"patch_48\">\r\n    <path clip-path=\"url(#pf54885cfe6)\" d=\"M 185.469318 224.64 \r\nL 188.512955 224.64 \r\nL 188.512955 206.632547 \r\nL 185.469318 206.632547 \r\nz\r\n\" style=\"fill:#1f77b4;\"/>\r\n   </g>\r\n   <g id=\"patch_49\">\r\n    <path clip-path=\"url(#pf54885cfe6)\" d=\"M 188.512955 224.64 \r\nL 191.556591 224.64 \r\nL 191.556591 210.634203 \r\nL 188.512955 210.634203 \r\nz\r\n\" style=\"fill:#1f77b4;\"/>\r\n   </g>\r\n   <g id=\"patch_50\">\r\n    <path clip-path=\"url(#pf54885cfe6)\" d=\"M 191.556591 224.64 \r\nL 194.600227 224.64 \r\nL 194.600227 17.554286 \r\nL 191.556591 17.554286 \r\nz\r\n\" style=\"fill:#1f77b4;\"/>\r\n   </g>\r\n   <g id=\"patch_51\">\r\n    <path clip-path=\"url(#pf54885cfe6)\" d=\"M 194.600227 224.64 \r\nL 197.643864 224.64 \r\nL 197.643864 151.609772 \r\nL 194.600227 151.609772 \r\nz\r\n\" style=\"fill:#1f77b4;\"/>\r\n   </g>\r\n   <g id=\"patch_52\">\r\n    <path clip-path=\"url(#pf54885cfe6)\" d=\"M 197.643864 224.64 \r\nL 200.6875 224.64 \r\nL 200.6875 178.620952 \r\nL 197.643864 178.620952 \r\nz\r\n\" style=\"fill:#1f77b4;\"/>\r\n   </g>\r\n   <g id=\"patch_53\">\r\n    <path clip-path=\"url(#pf54885cfe6)\" d=\"M 200.6875 224.64 \r\nL 203.731136 224.64 \r\nL 203.731136 180.621781 \r\nL 200.6875 180.621781 \r\nz\r\n\" style=\"fill:#1f77b4;\"/>\r\n   </g>\r\n   <g id=\"patch_54\">\r\n    <path clip-path=\"url(#pf54885cfe6)\" d=\"M 203.731136 224.64 \r\nL 206.774773 224.64 \r\nL 206.774773 187.624679 \r\nL 203.731136 187.624679 \r\nz\r\n\" style=\"fill:#1f77b4;\"/>\r\n   </g>\r\n   <g id=\"patch_55\">\r\n    <path clip-path=\"url(#pf54885cfe6)\" d=\"M 206.774773 224.64 \r\nL 209.818409 224.64 \r\nL 209.818409 167.616398 \r\nL 206.774773 167.616398 \r\nz\r\n\" style=\"fill:#1f77b4;\"/>\r\n   </g>\r\n   <g id=\"patch_56\">\r\n    <path clip-path=\"url(#pf54885cfe6)\" d=\"M 209.818409 224.64 \r\nL 212.862045 224.64 \r\nL 212.862045 180.621781 \r\nL 209.818409 180.621781 \r\nz\r\n\" style=\"fill:#1f77b4;\"/>\r\n   </g>\r\n   <g id=\"patch_57\">\r\n    <path clip-path=\"url(#pf54885cfe6)\" d=\"M 212.862045 224.64 \r\nL 215.905682 224.64 \r\nL 215.905682 175.61971 \r\nL 212.862045 175.61971 \r\nz\r\n\" style=\"fill:#1f77b4;\"/>\r\n   </g>\r\n   <g id=\"patch_58\">\r\n    <path clip-path=\"url(#pf54885cfe6)\" d=\"M 215.905682 224.64 \r\nL 218.949318 224.64 \r\nL 218.949318 173.618882 \r\nL 215.905682 173.618882 \r\nz\r\n\" style=\"fill:#1f77b4;\"/>\r\n   </g>\r\n   <g id=\"patch_59\">\r\n    <path clip-path=\"url(#pf54885cfe6)\" d=\"M 218.949318 224.64 \r\nL 221.992955 224.64 \r\nL 221.992955 94.58617 \r\nL 218.949318 94.58617 \r\nz\r\n\" style=\"fill:#1f77b4;\"/>\r\n   </g>\r\n   <g id=\"patch_60\">\r\n    <path clip-path=\"url(#pf54885cfe6)\" d=\"M 221.992955 224.64 \r\nL 225.036591 224.64 \r\nL 225.036591 170.61764 \r\nL 221.992955 170.61764 \r\nz\r\n\" style=\"fill:#1f77b4;\"/>\r\n   </g>\r\n   <g id=\"patch_61\">\r\n    <path clip-path=\"url(#pf54885cfe6)\" d=\"M 225.036591 224.64 \r\nL 228.080227 224.64 \r\nL 228.080227 134.602733 \r\nL 225.036591 134.602733 \r\nz\r\n\" style=\"fill:#1f77b4;\"/>\r\n   </g>\r\n   <g id=\"patch_62\">\r\n    <path clip-path=\"url(#pf54885cfe6)\" d=\"M 228.080227 224.64 \r\nL 231.123864 224.64 \r\nL 231.123864 147.608116 \r\nL 228.080227 147.608116 \r\nz\r\n\" style=\"fill:#1f77b4;\"/>\r\n   </g>\r\n   <g id=\"patch_63\">\r\n    <path clip-path=\"url(#pf54885cfe6)\" d=\"M 231.123864 224.64 \r\nL 234.1675 224.64 \r\nL 234.1675 21.555942 \r\nL 231.123864 21.555942 \r\nz\r\n\" style=\"fill:#1f77b4;\"/>\r\n   </g>\r\n   <g id=\"patch_64\">\r\n    <path clip-path=\"url(#pf54885cfe6)\" d=\"M 234.1675 224.64 \r\nL 237.211136 224.64 \r\nL 237.211136 107.591553 \r\nL 234.1675 107.591553 \r\nz\r\n\" style=\"fill:#1f77b4;\"/>\r\n   </g>\r\n   <g id=\"patch_65\">\r\n    <path clip-path=\"url(#pf54885cfe6)\" d=\"M 237.211136 224.64 \r\nL 240.254773 224.64 \r\nL 240.254773 30.559669 \r\nL 237.211136 30.559669 \r\nz\r\n\" style=\"fill:#1f77b4;\"/>\r\n   </g>\r\n   <g id=\"patch_66\">\r\n    <path clip-path=\"url(#pf54885cfe6)\" d=\"M 240.254773 224.64 \r\nL 243.298409 224.64 \r\nL 243.298409 127.599834 \r\nL 240.254773 127.599834 \r\nz\r\n\" style=\"fill:#1f77b4;\"/>\r\n   </g>\r\n   <g id=\"patch_67\">\r\n    <path clip-path=\"url(#pf54885cfe6)\" d=\"M 243.298409 224.64 \r\nL 246.342045 224.64 \r\nL 246.342045 149.608944 \r\nL 243.298409 149.608944 \r\nz\r\n\" style=\"fill:#1f77b4;\"/>\r\n   </g>\r\n   <g id=\"patch_68\">\r\n    <path clip-path=\"url(#pf54885cfe6)\" d=\"M 246.342045 224.64 \r\nL 249.385682 224.64 \r\nL 249.385682 159.613085 \r\nL 246.342045 159.613085 \r\nz\r\n\" style=\"fill:#1f77b4;\"/>\r\n   </g>\r\n   <g id=\"patch_69\">\r\n    <path clip-path=\"url(#pf54885cfe6)\" d=\"M 249.385682 224.64 \r\nL 252.429318 224.64 \r\nL 252.429318 156.611843 \r\nL 249.385682 156.611843 \r\nz\r\n\" style=\"fill:#1f77b4;\"/>\r\n   </g>\r\n   <g id=\"patch_70\">\r\n    <path clip-path=\"url(#pf54885cfe6)\" d=\"M 252.429318 224.64 \r\nL 255.472955 224.64 \r\nL 255.472955 171.618054 \r\nL 252.429318 171.618054 \r\nz\r\n\" style=\"fill:#1f77b4;\"/>\r\n   </g>\r\n   <g id=\"patch_71\">\r\n    <path clip-path=\"url(#pf54885cfe6)\" d=\"M 255.472955 224.64 \r\nL 258.516591 224.64 \r\nL 258.516591 134.602733 \r\nL 255.472955 134.602733 \r\nz\r\n\" style=\"fill:#1f77b4;\"/>\r\n   </g>\r\n   <g id=\"patch_72\">\r\n    <path clip-path=\"url(#pf54885cfe6)\" d=\"M 258.516591 224.64 \r\nL 261.560227 224.64 \r\nL 261.560227 185.623851 \r\nL 258.516591 185.623851 \r\nz\r\n\" style=\"fill:#1f77b4;\"/>\r\n   </g>\r\n   <g id=\"patch_73\">\r\n    <path clip-path=\"url(#pf54885cfe6)\" d=\"M 261.560227 224.64 \r\nL 264.603864 224.64 \r\nL 264.603864 138.604389 \r\nL 261.560227 138.604389 \r\nz\r\n\" style=\"fill:#1f77b4;\"/>\r\n   </g>\r\n   <g id=\"patch_74\">\r\n    <path clip-path=\"url(#pf54885cfe6)\" d=\"M 264.603864 224.64 \r\nL 267.6475 224.64 \r\nL 267.6475 127.599834 \r\nL 264.603864 127.599834 \r\nz\r\n\" style=\"fill:#1f77b4;\"/>\r\n   </g>\r\n   <g id=\"patch_75\">\r\n    <path clip-path=\"url(#pf54885cfe6)\" d=\"M 267.6475 224.64 \r\nL 270.691136 224.64 \r\nL 270.691136 142.606046 \r\nL 267.6475 142.606046 \r\nz\r\n\" style=\"fill:#1f77b4;\"/>\r\n   </g>\r\n   <g id=\"patch_76\">\r\n    <path clip-path=\"url(#pf54885cfe6)\" d=\"M 270.691136 224.64 \r\nL 273.734773 224.64 \r\nL 273.734773 176.620124 \r\nL 270.691136 176.620124 \r\nz\r\n\" style=\"fill:#1f77b4;\"/>\r\n   </g>\r\n   <g id=\"patch_77\">\r\n    <path clip-path=\"url(#pf54885cfe6)\" d=\"M 273.734773 224.64 \r\nL 276.778409 224.64 \r\nL 276.778409 137.603975 \r\nL 273.734773 137.603975 \r\nz\r\n\" style=\"fill:#1f77b4;\"/>\r\n   </g>\r\n   <g id=\"patch_78\">\r\n    <path clip-path=\"url(#pf54885cfe6)\" d=\"M 276.778409 224.64 \r\nL 279.822045 224.64 \r\nL 279.822045 207.632961 \r\nL 276.778409 207.632961 \r\nz\r\n\" style=\"fill:#1f77b4;\"/>\r\n   </g>\r\n   <g id=\"patch_79\">\r\n    <path clip-path=\"url(#pf54885cfe6)\" d=\"M 279.822045 224.64 \r\nL 282.865682 224.64 \r\nL 282.865682 209.633789 \r\nL 279.822045 209.633789 \r\nz\r\n\" style=\"fill:#1f77b4;\"/>\r\n   </g>\r\n   <g id=\"patch_80\">\r\n    <path clip-path=\"url(#pf54885cfe6)\" d=\"M 282.865682 224.64 \r\nL 285.909318 224.64 \r\nL 285.909318 152.610186 \r\nL 282.865682 152.610186 \r\nz\r\n\" style=\"fill:#1f77b4;\"/>\r\n   </g>\r\n   <g id=\"patch_81\">\r\n    <path clip-path=\"url(#pf54885cfe6)\" d=\"M 285.909318 224.64 \r\nL 288.952955 224.64 \r\nL 288.952955 77.57913 \r\nL 285.909318 77.57913 \r\nz\r\n\" style=\"fill:#1f77b4;\"/>\r\n   </g>\r\n   <g id=\"patch_82\">\r\n    <path clip-path=\"url(#pf54885cfe6)\" d=\"M 288.952955 224.64 \r\nL 291.996591 224.64 \r\nL 291.996591 195.627992 \r\nL 288.952955 195.627992 \r\nz\r\n\" style=\"fill:#1f77b4;\"/>\r\n   </g>\r\n   <g id=\"patch_83\">\r\n    <path clip-path=\"url(#pf54885cfe6)\" d=\"M 291.996591 224.64 \r\nL 295.040227 224.64 \r\nL 295.040227 208.633375 \r\nL 291.996591 208.633375 \r\nz\r\n\" style=\"fill:#1f77b4;\"/>\r\n   </g>\r\n   <g id=\"patch_84\">\r\n    <path clip-path=\"url(#pf54885cfe6)\" d=\"M 295.040227 224.64 \r\nL 298.083864 224.64 \r\nL 298.083864 211.634617 \r\nL 295.040227 211.634617 \r\nz\r\n\" style=\"fill:#1f77b4;\"/>\r\n   </g>\r\n   <g id=\"patch_85\">\r\n    <path clip-path=\"url(#pf54885cfe6)\" d=\"M 298.083864 224.64 \r\nL 301.1275 224.64 \r\nL 301.1275 211.634617 \r\nL 298.083864 211.634617 \r\nz\r\n\" style=\"fill:#1f77b4;\"/>\r\n   </g>\r\n   <g id=\"patch_86\">\r\n    <path clip-path=\"url(#pf54885cfe6)\" d=\"M 301.1275 224.64 \r\nL 304.171136 224.64 \r\nL 304.171136 208.633375 \r\nL 301.1275 208.633375 \r\nz\r\n\" style=\"fill:#1f77b4;\"/>\r\n   </g>\r\n   <g id=\"patch_87\">\r\n    <path clip-path=\"url(#pf54885cfe6)\" d=\"M 304.171136 224.64 \r\nL 307.214773 224.64 \r\nL 307.214773 214.635859 \r\nL 304.171136 214.635859 \r\nz\r\n\" style=\"fill:#1f77b4;\"/>\r\n   </g>\r\n   <g id=\"patch_88\">\r\n    <path clip-path=\"url(#pf54885cfe6)\" d=\"M 307.214773 224.64 \r\nL 310.258409 224.64 \r\nL 310.258409 221.638758 \r\nL 307.214773 221.638758 \r\nz\r\n\" style=\"fill:#1f77b4;\"/>\r\n   </g>\r\n   <g id=\"patch_89\">\r\n    <path clip-path=\"url(#pf54885cfe6)\" d=\"M 310.258409 224.64 \r\nL 313.302045 224.64 \r\nL 313.302045 221.638758 \r\nL 310.258409 221.638758 \r\nz\r\n\" style=\"fill:#1f77b4;\"/>\r\n   </g>\r\n   <g id=\"patch_90\">\r\n    <path clip-path=\"url(#pf54885cfe6)\" d=\"M 313.302045 224.64 \r\nL 316.345682 224.64 \r\nL 316.345682 222.639172 \r\nL 313.302045 222.639172 \r\nz\r\n\" style=\"fill:#1f77b4;\"/>\r\n   </g>\r\n   <g id=\"patch_91\">\r\n    <path clip-path=\"url(#pf54885cfe6)\" d=\"M 316.345682 224.64 \r\nL 319.389318 224.64 \r\nL 319.389318 223.639586 \r\nL 316.345682 223.639586 \r\nz\r\n\" style=\"fill:#1f77b4;\"/>\r\n   </g>\r\n   <g id=\"patch_92\">\r\n    <path clip-path=\"url(#pf54885cfe6)\" d=\"M 319.389318 224.64 \r\nL 322.432955 224.64 \r\nL 322.432955 220.638344 \r\nL 319.389318 220.638344 \r\nz\r\n\" style=\"fill:#1f77b4;\"/>\r\n   </g>\r\n   <g id=\"patch_93\">\r\n    <path clip-path=\"url(#pf54885cfe6)\" d=\"M 322.432955 224.64 \r\nL 325.476591 224.64 \r\nL 325.476591 221.638758 \r\nL 322.432955 221.638758 \r\nz\r\n\" style=\"fill:#1f77b4;\"/>\r\n   </g>\r\n   <g id=\"patch_94\">\r\n    <path clip-path=\"url(#pf54885cfe6)\" d=\"M 325.476591 224.64 \r\nL 328.520227 224.64 \r\nL 328.520227 222.639172 \r\nL 325.476591 222.639172 \r\nz\r\n\" style=\"fill:#1f77b4;\"/>\r\n   </g>\r\n   <g id=\"patch_95\">\r\n    <path clip-path=\"url(#pf54885cfe6)\" d=\"M 328.520227 224.64 \r\nL 331.563864 224.64 \r\nL 331.563864 224.64 \r\nL 328.520227 224.64 \r\nz\r\n\" style=\"fill:#1f77b4;\"/>\r\n   </g>\r\n   <g id=\"patch_96\">\r\n    <path clip-path=\"url(#pf54885cfe6)\" d=\"M 331.563864 224.64 \r\nL 334.6075 224.64 \r\nL 334.6075 224.64 \r\nL 331.563864 224.64 \r\nz\r\n\" style=\"fill:#1f77b4;\"/>\r\n   </g>\r\n   <g id=\"patch_97\">\r\n    <path clip-path=\"url(#pf54885cfe6)\" d=\"M 334.6075 224.64 \r\nL 337.651136 224.64 \r\nL 337.651136 224.64 \r\nL 334.6075 224.64 \r\nz\r\n\" style=\"fill:#1f77b4;\"/>\r\n   </g>\r\n   <g id=\"patch_98\">\r\n    <path clip-path=\"url(#pf54885cfe6)\" d=\"M 337.651136 224.64 \r\nL 340.694773 224.64 \r\nL 340.694773 224.64 \r\nL 337.651136 224.64 \r\nz\r\n\" style=\"fill:#1f77b4;\"/>\r\n   </g>\r\n   <g id=\"patch_99\">\r\n    <path clip-path=\"url(#pf54885cfe6)\" d=\"M 340.694773 224.64 \r\nL 343.738409 224.64 \r\nL 343.738409 223.639586 \r\nL 340.694773 223.639586 \r\nz\r\n\" style=\"fill:#1f77b4;\"/>\r\n   </g>\r\n   <g id=\"patch_100\">\r\n    <path clip-path=\"url(#pf54885cfe6)\" d=\"M 343.738409 224.64 \r\nL 346.782045 224.64 \r\nL 346.782045 224.64 \r\nL 343.738409 224.64 \r\nz\r\n\" style=\"fill:#1f77b4;\"/>\r\n   </g>\r\n   <g id=\"patch_101\">\r\n    <path clip-path=\"url(#pf54885cfe6)\" d=\"M 346.782045 224.64 \r\nL 349.825682 224.64 \r\nL 349.825682 222.639172 \r\nL 346.782045 222.639172 \r\nz\r\n\" style=\"fill:#1f77b4;\"/>\r\n   </g>\r\n   <g id=\"patch_102\">\r\n    <path clip-path=\"url(#pf54885cfe6)\" d=\"M 349.825682 224.64 \r\nL 352.869318 224.64 \r\nL 352.869318 223.639586 \r\nL 349.825682 223.639586 \r\nz\r\n\" style=\"fill:#1f77b4;\"/>\r\n   </g>\r\n   <g id=\"matplotlib.axis_1\">\r\n    <g id=\"xtick_1\">\r\n     <g id=\"line2d_1\">\r\n      <defs>\r\n       <path d=\"M 0 0 \r\nL 0 3.5 \r\n\" id=\"m4bf1835e5c\" style=\"stroke:#000000;stroke-width:0.8;\"/>\r\n      </defs>\r\n      <g>\r\n       <use style=\"stroke:#000000;stroke-width:0.8;\" x=\"81.648728\" xlink:href=\"#m4bf1835e5c\" y=\"224.64\"/>\r\n      </g>\r\n     </g>\r\n     <g id=\"text_1\">\r\n      <!-- 1500 -->\r\n      <g transform=\"translate(68.923728 239.238437)scale(0.1 -0.1)\">\r\n       <defs>\r\n        <path d=\"M 12.40625 8.296875 \r\nL 28.515625 8.296875 \r\nL 28.515625 63.921875 \r\nL 10.984375 60.40625 \r\nL 10.984375 69.390625 \r\nL 28.421875 72.90625 \r\nL 38.28125 72.90625 \r\nL 38.28125 8.296875 \r\nL 54.390625 8.296875 \r\nL 54.390625 0 \r\nL 12.40625 0 \r\nz\r\n\" id=\"DejaVuSans-49\"/>\r\n        <path d=\"M 10.796875 72.90625 \r\nL 49.515625 72.90625 \r\nL 49.515625 64.59375 \r\nL 19.828125 64.59375 \r\nL 19.828125 46.734375 \r\nQ 21.96875 47.46875 24.109375 47.828125 \r\nQ 26.265625 48.1875 28.421875 48.1875 \r\nQ 40.625 48.1875 47.75 41.5 \r\nQ 54.890625 34.8125 54.890625 23.390625 \r\nQ 54.890625 11.625 47.5625 5.09375 \r\nQ 40.234375 -1.421875 26.90625 -1.421875 \r\nQ 22.3125 -1.421875 17.546875 -0.640625 \r\nQ 12.796875 0.140625 7.71875 1.703125 \r\nL 7.71875 11.625 \r\nQ 12.109375 9.234375 16.796875 8.0625 \r\nQ 21.484375 6.890625 26.703125 6.890625 \r\nQ 35.15625 6.890625 40.078125 11.328125 \r\nQ 45.015625 15.765625 45.015625 23.390625 \r\nQ 45.015625 31 40.078125 35.4375 \r\nQ 35.15625 39.890625 26.703125 39.890625 \r\nQ 22.75 39.890625 18.8125 39.015625 \r\nQ 14.890625 38.140625 10.796875 36.28125 \r\nz\r\n\" id=\"DejaVuSans-53\"/>\r\n        <path d=\"M 31.78125 66.40625 \r\nQ 24.171875 66.40625 20.328125 58.90625 \r\nQ 16.5 51.421875 16.5 36.375 \r\nQ 16.5 21.390625 20.328125 13.890625 \r\nQ 24.171875 6.390625 31.78125 6.390625 \r\nQ 39.453125 6.390625 43.28125 13.890625 \r\nQ 47.125 21.390625 47.125 36.375 \r\nQ 47.125 51.421875 43.28125 58.90625 \r\nQ 39.453125 66.40625 31.78125 66.40625 \r\nz\r\nM 31.78125 74.21875 \r\nQ 44.046875 74.21875 50.515625 64.515625 \r\nQ 56.984375 54.828125 56.984375 36.375 \r\nQ 56.984375 17.96875 50.515625 8.265625 \r\nQ 44.046875 -1.421875 31.78125 -1.421875 \r\nQ 19.53125 -1.421875 13.0625 8.265625 \r\nQ 6.59375 17.96875 6.59375 36.375 \r\nQ 6.59375 54.828125 13.0625 64.515625 \r\nQ 19.53125 74.21875 31.78125 74.21875 \r\nz\r\n\" id=\"DejaVuSans-48\"/>\r\n       </defs>\r\n       <use xlink:href=\"#DejaVuSans-49\"/>\r\n       <use x=\"63.623047\" xlink:href=\"#DejaVuSans-53\"/>\r\n       <use x=\"127.246094\" xlink:href=\"#DejaVuSans-48\"/>\r\n       <use x=\"190.869141\" xlink:href=\"#DejaVuSans-48\"/>\r\n      </g>\r\n     </g>\r\n    </g>\r\n    <g id=\"xtick_2\">\r\n     <g id=\"line2d_2\">\r\n      <g>\r\n       <use style=\"stroke:#000000;stroke-width:0.8;\" x=\"136.887137\" xlink:href=\"#m4bf1835e5c\" y=\"224.64\"/>\r\n      </g>\r\n     </g>\r\n     <g id=\"text_2\">\r\n      <!-- 1600 -->\r\n      <g transform=\"translate(124.162137 239.238437)scale(0.1 -0.1)\">\r\n       <defs>\r\n        <path d=\"M 33.015625 40.375 \r\nQ 26.375 40.375 22.484375 35.828125 \r\nQ 18.609375 31.296875 18.609375 23.390625 \r\nQ 18.609375 15.53125 22.484375 10.953125 \r\nQ 26.375 6.390625 33.015625 6.390625 \r\nQ 39.65625 6.390625 43.53125 10.953125 \r\nQ 47.40625 15.53125 47.40625 23.390625 \r\nQ 47.40625 31.296875 43.53125 35.828125 \r\nQ 39.65625 40.375 33.015625 40.375 \r\nz\r\nM 52.59375 71.296875 \r\nL 52.59375 62.3125 \r\nQ 48.875 64.0625 45.09375 64.984375 \r\nQ 41.3125 65.921875 37.59375 65.921875 \r\nQ 27.828125 65.921875 22.671875 59.328125 \r\nQ 17.53125 52.734375 16.796875 39.40625 \r\nQ 19.671875 43.65625 24.015625 45.921875 \r\nQ 28.375 48.1875 33.59375 48.1875 \r\nQ 44.578125 48.1875 50.953125 41.515625 \r\nQ 57.328125 34.859375 57.328125 23.390625 \r\nQ 57.328125 12.15625 50.6875 5.359375 \r\nQ 44.046875 -1.421875 33.015625 -1.421875 \r\nQ 20.359375 -1.421875 13.671875 8.265625 \r\nQ 6.984375 17.96875 6.984375 36.375 \r\nQ 6.984375 53.65625 15.1875 63.9375 \r\nQ 23.390625 74.21875 37.203125 74.21875 \r\nQ 40.921875 74.21875 44.703125 73.484375 \r\nQ 48.484375 72.75 52.59375 71.296875 \r\nz\r\n\" id=\"DejaVuSans-54\"/>\r\n       </defs>\r\n       <use xlink:href=\"#DejaVuSans-49\"/>\r\n       <use x=\"63.623047\" xlink:href=\"#DejaVuSans-54\"/>\r\n       <use x=\"127.246094\" xlink:href=\"#DejaVuSans-48\"/>\r\n       <use x=\"190.869141\" xlink:href=\"#DejaVuSans-48\"/>\r\n      </g>\r\n     </g>\r\n    </g>\r\n    <g id=\"xtick_3\">\r\n     <g id=\"line2d_3\">\r\n      <g>\r\n       <use style=\"stroke:#000000;stroke-width:0.8;\" x=\"192.125547\" xlink:href=\"#m4bf1835e5c\" y=\"224.64\"/>\r\n      </g>\r\n     </g>\r\n     <g id=\"text_3\">\r\n      <!-- 1700 -->\r\n      <g transform=\"translate(179.400547 239.238437)scale(0.1 -0.1)\">\r\n       <defs>\r\n        <path d=\"M 8.203125 72.90625 \r\nL 55.078125 72.90625 \r\nL 55.078125 68.703125 \r\nL 28.609375 0 \r\nL 18.3125 0 \r\nL 43.21875 64.59375 \r\nL 8.203125 64.59375 \r\nz\r\n\" id=\"DejaVuSans-55\"/>\r\n       </defs>\r\n       <use xlink:href=\"#DejaVuSans-49\"/>\r\n       <use x=\"63.623047\" xlink:href=\"#DejaVuSans-55\"/>\r\n       <use x=\"127.246094\" xlink:href=\"#DejaVuSans-48\"/>\r\n       <use x=\"190.869141\" xlink:href=\"#DejaVuSans-48\"/>\r\n      </g>\r\n     </g>\r\n    </g>\r\n    <g id=\"xtick_4\">\r\n     <g id=\"line2d_4\">\r\n      <g>\r\n       <use style=\"stroke:#000000;stroke-width:0.8;\" x=\"247.363956\" xlink:href=\"#m4bf1835e5c\" y=\"224.64\"/>\r\n      </g>\r\n     </g>\r\n     <g id=\"text_4\">\r\n      <!-- 1800 -->\r\n      <g transform=\"translate(234.638956 239.238437)scale(0.1 -0.1)\">\r\n       <defs>\r\n        <path d=\"M 31.78125 34.625 \r\nQ 24.75 34.625 20.71875 30.859375 \r\nQ 16.703125 27.09375 16.703125 20.515625 \r\nQ 16.703125 13.921875 20.71875 10.15625 \r\nQ 24.75 6.390625 31.78125 6.390625 \r\nQ 38.8125 6.390625 42.859375 10.171875 \r\nQ 46.921875 13.96875 46.921875 20.515625 \r\nQ 46.921875 27.09375 42.890625 30.859375 \r\nQ 38.875 34.625 31.78125 34.625 \r\nz\r\nM 21.921875 38.8125 \r\nQ 15.578125 40.375 12.03125 44.71875 \r\nQ 8.5 49.078125 8.5 55.328125 \r\nQ 8.5 64.0625 14.71875 69.140625 \r\nQ 20.953125 74.21875 31.78125 74.21875 \r\nQ 42.671875 74.21875 48.875 69.140625 \r\nQ 55.078125 64.0625 55.078125 55.328125 \r\nQ 55.078125 49.078125 51.53125 44.71875 \r\nQ 48 40.375 41.703125 38.8125 \r\nQ 48.828125 37.15625 52.796875 32.3125 \r\nQ 56.78125 27.484375 56.78125 20.515625 \r\nQ 56.78125 9.90625 50.3125 4.234375 \r\nQ 43.84375 -1.421875 31.78125 -1.421875 \r\nQ 19.734375 -1.421875 13.25 4.234375 \r\nQ 6.78125 9.90625 6.78125 20.515625 \r\nQ 6.78125 27.484375 10.78125 32.3125 \r\nQ 14.796875 37.15625 21.921875 38.8125 \r\nz\r\nM 18.3125 54.390625 \r\nQ 18.3125 48.734375 21.84375 45.5625 \r\nQ 25.390625 42.390625 31.78125 42.390625 \r\nQ 38.140625 42.390625 41.71875 45.5625 \r\nQ 45.3125 48.734375 45.3125 54.390625 \r\nQ 45.3125 60.0625 41.71875 63.234375 \r\nQ 38.140625 66.40625 31.78125 66.40625 \r\nQ 25.390625 66.40625 21.84375 63.234375 \r\nQ 18.3125 60.0625 18.3125 54.390625 \r\nz\r\n\" id=\"DejaVuSans-56\"/>\r\n       </defs>\r\n       <use xlink:href=\"#DejaVuSans-49\"/>\r\n       <use x=\"63.623047\" xlink:href=\"#DejaVuSans-56\"/>\r\n       <use x=\"127.246094\" xlink:href=\"#DejaVuSans-48\"/>\r\n       <use x=\"190.869141\" xlink:href=\"#DejaVuSans-48\"/>\r\n      </g>\r\n     </g>\r\n    </g>\r\n    <g id=\"xtick_5\">\r\n     <g id=\"line2d_5\">\r\n      <g>\r\n       <use style=\"stroke:#000000;stroke-width:0.8;\" x=\"302.602366\" xlink:href=\"#m4bf1835e5c\" y=\"224.64\"/>\r\n      </g>\r\n     </g>\r\n     <g id=\"text_5\">\r\n      <!-- 1900 -->\r\n      <g transform=\"translate(289.877366 239.238437)scale(0.1 -0.1)\">\r\n       <defs>\r\n        <path d=\"M 10.984375 1.515625 \r\nL 10.984375 10.5 \r\nQ 14.703125 8.734375 18.5 7.8125 \r\nQ 22.3125 6.890625 25.984375 6.890625 \r\nQ 35.75 6.890625 40.890625 13.453125 \r\nQ 46.046875 20.015625 46.78125 33.40625 \r\nQ 43.953125 29.203125 39.59375 26.953125 \r\nQ 35.25 24.703125 29.984375 24.703125 \r\nQ 19.046875 24.703125 12.671875 31.3125 \r\nQ 6.296875 37.9375 6.296875 49.421875 \r\nQ 6.296875 60.640625 12.9375 67.421875 \r\nQ 19.578125 74.21875 30.609375 74.21875 \r\nQ 43.265625 74.21875 49.921875 64.515625 \r\nQ 56.59375 54.828125 56.59375 36.375 \r\nQ 56.59375 19.140625 48.40625 8.859375 \r\nQ 40.234375 -1.421875 26.421875 -1.421875 \r\nQ 22.703125 -1.421875 18.890625 -0.6875 \r\nQ 15.09375 0.046875 10.984375 1.515625 \r\nz\r\nM 30.609375 32.421875 \r\nQ 37.25 32.421875 41.125 36.953125 \r\nQ 45.015625 41.5 45.015625 49.421875 \r\nQ 45.015625 57.28125 41.125 61.84375 \r\nQ 37.25 66.40625 30.609375 66.40625 \r\nQ 23.96875 66.40625 20.09375 61.84375 \r\nQ 16.21875 57.28125 16.21875 49.421875 \r\nQ 16.21875 41.5 20.09375 36.953125 \r\nQ 23.96875 32.421875 30.609375 32.421875 \r\nz\r\n\" id=\"DejaVuSans-57\"/>\r\n       </defs>\r\n       <use xlink:href=\"#DejaVuSans-49\"/>\r\n       <use x=\"63.623047\" xlink:href=\"#DejaVuSans-57\"/>\r\n       <use x=\"127.246094\" xlink:href=\"#DejaVuSans-48\"/>\r\n       <use x=\"190.869141\" xlink:href=\"#DejaVuSans-48\"/>\r\n      </g>\r\n     </g>\r\n    </g>\r\n    <g id=\"xtick_6\">\r\n     <g id=\"line2d_6\">\r\n      <g>\r\n       <use style=\"stroke:#000000;stroke-width:0.8;\" x=\"357.840775\" xlink:href=\"#m4bf1835e5c\" y=\"224.64\"/>\r\n      </g>\r\n     </g>\r\n     <g id=\"text_6\">\r\n      <!-- 2000 -->\r\n      <g transform=\"translate(345.115775 239.238437)scale(0.1 -0.1)\">\r\n       <defs>\r\n        <path d=\"M 19.1875 8.296875 \r\nL 53.609375 8.296875 \r\nL 53.609375 0 \r\nL 7.328125 0 \r\nL 7.328125 8.296875 \r\nQ 12.9375 14.109375 22.625 23.890625 \r\nQ 32.328125 33.6875 34.8125 36.53125 \r\nQ 39.546875 41.84375 41.421875 45.53125 \r\nQ 43.3125 49.21875 43.3125 52.78125 \r\nQ 43.3125 58.59375 39.234375 62.25 \r\nQ 35.15625 65.921875 28.609375 65.921875 \r\nQ 23.96875 65.921875 18.8125 64.3125 \r\nQ 13.671875 62.703125 7.8125 59.421875 \r\nL 7.8125 69.390625 \r\nQ 13.765625 71.78125 18.9375 73 \r\nQ 24.125 74.21875 28.421875 74.21875 \r\nQ 39.75 74.21875 46.484375 68.546875 \r\nQ 53.21875 62.890625 53.21875 53.421875 \r\nQ 53.21875 48.921875 51.53125 44.890625 \r\nQ 49.859375 40.875 45.40625 35.40625 \r\nQ 44.1875 33.984375 37.640625 27.21875 \r\nQ 31.109375 20.453125 19.1875 8.296875 \r\nz\r\n\" id=\"DejaVuSans-50\"/>\r\n       </defs>\r\n       <use xlink:href=\"#DejaVuSans-50\"/>\r\n       <use x=\"63.623047\" xlink:href=\"#DejaVuSans-48\"/>\r\n       <use x=\"127.246094\" xlink:href=\"#DejaVuSans-48\"/>\r\n       <use x=\"190.869141\" xlink:href=\"#DejaVuSans-48\"/>\r\n      </g>\r\n     </g>\r\n    </g>\r\n   </g>\r\n   <g id=\"matplotlib.axis_2\">\r\n    <g id=\"ytick_1\">\r\n     <g id=\"line2d_7\">\r\n      <defs>\r\n       <path d=\"M 0 0 \r\nL -3.5 0 \r\n\" id=\"m3ee4544678\" style=\"stroke:#000000;stroke-width:0.8;\"/>\r\n      </defs>\r\n      <g>\r\n       <use style=\"stroke:#000000;stroke-width:0.8;\" x=\"33.2875\" xlink:href=\"#m3ee4544678\" y=\"224.64\"/>\r\n      </g>\r\n     </g>\r\n     <g id=\"text_7\">\r\n      <!-- 0 -->\r\n      <g transform=\"translate(19.925 228.439219)scale(0.1 -0.1)\">\r\n       <use xlink:href=\"#DejaVuSans-48\"/>\r\n      </g>\r\n     </g>\r\n    </g>\r\n    <g id=\"ytick_2\">\r\n     <g id=\"line2d_8\">\r\n      <g>\r\n       <use style=\"stroke:#000000;stroke-width:0.8;\" x=\"33.2875\" xlink:href=\"#m3ee4544678\" y=\"199.629648\"/>\r\n      </g>\r\n     </g>\r\n     <g id=\"text_8\">\r\n      <!-- 25 -->\r\n      <g transform=\"translate(13.5625 203.428867)scale(0.1 -0.1)\">\r\n       <use xlink:href=\"#DejaVuSans-50\"/>\r\n       <use x=\"63.623047\" xlink:href=\"#DejaVuSans-53\"/>\r\n      </g>\r\n     </g>\r\n    </g>\r\n    <g id=\"ytick_3\">\r\n     <g id=\"line2d_9\">\r\n      <g>\r\n       <use style=\"stroke:#000000;stroke-width:0.8;\" x=\"33.2875\" xlink:href=\"#m3ee4544678\" y=\"174.619296\"/>\r\n      </g>\r\n     </g>\r\n     <g id=\"text_9\">\r\n      <!-- 50 -->\r\n      <g transform=\"translate(13.5625 178.418515)scale(0.1 -0.1)\">\r\n       <use xlink:href=\"#DejaVuSans-53\"/>\r\n       <use x=\"63.623047\" xlink:href=\"#DejaVuSans-48\"/>\r\n      </g>\r\n     </g>\r\n    </g>\r\n    <g id=\"ytick_4\">\r\n     <g id=\"line2d_10\">\r\n      <g>\r\n       <use style=\"stroke:#000000;stroke-width:0.8;\" x=\"33.2875\" xlink:href=\"#m3ee4544678\" y=\"149.608944\"/>\r\n      </g>\r\n     </g>\r\n     <g id=\"text_10\">\r\n      <!-- 75 -->\r\n      <g transform=\"translate(13.5625 153.408163)scale(0.1 -0.1)\">\r\n       <use xlink:href=\"#DejaVuSans-55\"/>\r\n       <use x=\"63.623047\" xlink:href=\"#DejaVuSans-53\"/>\r\n      </g>\r\n     </g>\r\n    </g>\r\n    <g id=\"ytick_5\">\r\n     <g id=\"line2d_11\">\r\n      <g>\r\n       <use style=\"stroke:#000000;stroke-width:0.8;\" x=\"33.2875\" xlink:href=\"#m3ee4544678\" y=\"124.598592\"/>\r\n      </g>\r\n     </g>\r\n     <g id=\"text_11\">\r\n      <!-- 100 -->\r\n      <g transform=\"translate(7.2 128.397811)scale(0.1 -0.1)\">\r\n       <use xlink:href=\"#DejaVuSans-49\"/>\r\n       <use x=\"63.623047\" xlink:href=\"#DejaVuSans-48\"/>\r\n       <use x=\"127.246094\" xlink:href=\"#DejaVuSans-48\"/>\r\n      </g>\r\n     </g>\r\n    </g>\r\n    <g id=\"ytick_6\">\r\n     <g id=\"line2d_12\">\r\n      <g>\r\n       <use style=\"stroke:#000000;stroke-width:0.8;\" x=\"33.2875\" xlink:href=\"#m3ee4544678\" y=\"99.58824\"/>\r\n      </g>\r\n     </g>\r\n     <g id=\"text_12\">\r\n      <!-- 125 -->\r\n      <g transform=\"translate(7.2 103.387459)scale(0.1 -0.1)\">\r\n       <use xlink:href=\"#DejaVuSans-49\"/>\r\n       <use x=\"63.623047\" xlink:href=\"#DejaVuSans-50\"/>\r\n       <use x=\"127.246094\" xlink:href=\"#DejaVuSans-53\"/>\r\n      </g>\r\n     </g>\r\n    </g>\r\n    <g id=\"ytick_7\">\r\n     <g id=\"line2d_13\">\r\n      <g>\r\n       <use style=\"stroke:#000000;stroke-width:0.8;\" x=\"33.2875\" xlink:href=\"#m3ee4544678\" y=\"74.577888\"/>\r\n      </g>\r\n     </g>\r\n     <g id=\"text_13\">\r\n      <!-- 150 -->\r\n      <g transform=\"translate(7.2 78.377107)scale(0.1 -0.1)\">\r\n       <use xlink:href=\"#DejaVuSans-49\"/>\r\n       <use x=\"63.623047\" xlink:href=\"#DejaVuSans-53\"/>\r\n       <use x=\"127.246094\" xlink:href=\"#DejaVuSans-48\"/>\r\n      </g>\r\n     </g>\r\n    </g>\r\n    <g id=\"ytick_8\">\r\n     <g id=\"line2d_14\">\r\n      <g>\r\n       <use style=\"stroke:#000000;stroke-width:0.8;\" x=\"33.2875\" xlink:href=\"#m3ee4544678\" y=\"49.567536\"/>\r\n      </g>\r\n     </g>\r\n     <g id=\"text_14\">\r\n      <!-- 175 -->\r\n      <g transform=\"translate(7.2 53.366755)scale(0.1 -0.1)\">\r\n       <use xlink:href=\"#DejaVuSans-49\"/>\r\n       <use x=\"63.623047\" xlink:href=\"#DejaVuSans-55\"/>\r\n       <use x=\"127.246094\" xlink:href=\"#DejaVuSans-53\"/>\r\n      </g>\r\n     </g>\r\n    </g>\r\n    <g id=\"ytick_9\">\r\n     <g id=\"line2d_15\">\r\n      <g>\r\n       <use style=\"stroke:#000000;stroke-width:0.8;\" x=\"33.2875\" xlink:href=\"#m3ee4544678\" y=\"24.557184\"/>\r\n      </g>\r\n     </g>\r\n     <g id=\"text_15\">\r\n      <!-- 200 -->\r\n      <g transform=\"translate(7.2 28.356403)scale(0.1 -0.1)\">\r\n       <use xlink:href=\"#DejaVuSans-50\"/>\r\n       <use x=\"63.623047\" xlink:href=\"#DejaVuSans-48\"/>\r\n       <use x=\"127.246094\" xlink:href=\"#DejaVuSans-48\"/>\r\n      </g>\r\n     </g>\r\n    </g>\r\n   </g>\r\n   <g id=\"patch_103\">\r\n    <path d=\"M 33.2875 224.64 \r\nL 33.2875 7.2 \r\n\" style=\"fill:none;stroke:#000000;stroke-linecap:square;stroke-linejoin:miter;stroke-width:0.8;\"/>\r\n   </g>\r\n   <g id=\"patch_104\">\r\n    <path d=\"M 368.0875 224.64 \r\nL 368.0875 7.2 \r\n\" style=\"fill:none;stroke:#000000;stroke-linecap:square;stroke-linejoin:miter;stroke-width:0.8;\"/>\r\n   </g>\r\n   <g id=\"patch_105\">\r\n    <path d=\"M 33.2875 224.64 \r\nL 368.0875 224.64 \r\n\" style=\"fill:none;stroke:#000000;stroke-linecap:square;stroke-linejoin:miter;stroke-width:0.8;\"/>\r\n   </g>\r\n   <g id=\"patch_106\">\r\n    <path d=\"M 33.2875 7.2 \r\nL 368.0875 7.2 \r\n\" style=\"fill:none;stroke:#000000;stroke-linecap:square;stroke-linejoin:miter;stroke-width:0.8;\"/>\r\n   </g>\r\n  </g>\r\n </g>\r\n <defs>\r\n  <clipPath id=\"pf54885cfe6\">\r\n   <rect height=\"217.44\" width=\"334.8\" x=\"33.2875\" y=\"7.2\"/>\r\n  </clipPath>\r\n </defs>\r\n</svg>\r\n",
      "image/png": "[encoded data removed]"
     },
     "metadata": {
      "needs_background": "light"
     }
    }
   ],
   "source": [
    "plt.hist(train['sorting_date'], bins=100)"
   ]
  },
  {
   "cell_type": "code",
   "execution_count": 12,
   "metadata": {},
   "outputs": [
    {
     "output_type": "execute_result",
     "data": {
      "text/plain": [
       "paper                          3746\n",
       "ink                            1589\n",
       "chalk                          1509\n",
       "pencil                         1135\n",
       "watercolor (paint)              543\n",
       "deck paint                      130\n",
       "graphite (mineral)              122\n",
       "prepared paper                   91\n",
       "parchment (animal material)      61\n",
       "paint (coating)                  43\n",
       "gouache (paint)                  38\n",
       "oil paint (paint)                33\n",
       "cardboard                        18\n",
       "tracing paper                     8\n",
       "linen (material)                  3\n",
       "leather                           2\n",
       "India ink (ink)                   2\n",
       "wood (plant material)             1\n",
       "velvet (fabric weave)             1\n",
       "gold leaf                         1\n",
       "zinc                              1\n",
       "bristol board                     1\n",
       "palm leaf (material)              1\n",
       "metal                             1\n",
       "varnish                           1\n",
       "Name: name, dtype: int64"
      ]
     },
     "metadata": {},
     "execution_count": 12
    }
   ],
   "source": [
    "mate['name'].value_counts()"
   ]
  },
  {
   "cell_type": "code",
   "execution_count": 13,
   "metadata": {},
   "outputs": [
    {
     "output_type": "execute_result",
     "data": {
      "text/plain": [
       "brush                   2179\n",
       "pen                     1569\n",
       "counterproof              17\n",
       "chalk                      3\n",
       "snipping                   2\n",
       "pencil                     2\n",
       "engraving                  2\n",
       "letterpress printing       1\n",
       "scoring                    1\n",
       "sewing                     1\n",
       "Name: name, dtype: int64"
      ]
     },
     "metadata": {},
     "execution_count": 13
    }
   ],
   "source": [
    "tech['name'].value_counts()"
   ]
  },
  {
   "cell_type": "code",
   "execution_count": 14,
   "metadata": {},
   "outputs": [
    {
     "output_type": "execute_result",
     "data": {
      "text/plain": [
       "2    1511\n",
       "3    1055\n",
       "1     896\n",
       "0     475\n",
       "Name: target, dtype: int64"
      ]
     },
     "metadata": {},
     "execution_count": 14
    }
   ],
   "source": [
    "train['target'].value_counts()"
   ]
  },
  {
   "cell_type": "code",
   "execution_count": null,
   "metadata": {},
   "outputs": [],
   "source": []
  }
 ]
}